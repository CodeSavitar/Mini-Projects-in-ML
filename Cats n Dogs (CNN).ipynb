{
 "cells": [
  {
   "cell_type": "code",
   "execution_count": 1,
   "metadata": {},
   "outputs": [],
   "source": [
    "import tensorflow as tf\n",
    "from keras.preprocessing.image import ImageDataGenerator as IDG"
   ]
  },
  {
   "cell_type": "markdown",
   "metadata": {},
   "source": [
    "# DATA PREPROCESSING\n"
   ]
  },
  {
   "cell_type": "code",
   "execution_count": 4,
   "metadata": {},
   "outputs": [
    {
     "name": "stdout",
     "output_type": "stream",
     "text": [
      "Found 8000 images belonging to 2 classes.\n"
     ]
    }
   ],
   "source": [
    "train_data = IDG(\n",
    "    rescale = 1./255,\n",
    "    shear_range = 0.2,\n",
    "    zoom_range = 0.2,\n",
    "    horizontal_flip = True)\n",
    "\n",
    "training_set = train_data.flow_from_directory(\n",
    "    'ML Data sets/Section 40 - Convolutional Neural Networks (CNN)/dataset/training_set',\n",
    "    target_size = (64,64),\n",
    "    batch_size = 32,\n",
    "    class_mode = 'binary')"
   ]
  },
  {
   "cell_type": "code",
   "execution_count": 5,
   "metadata": {},
   "outputs": [
    {
     "name": "stdout",
     "output_type": "stream",
     "text": [
      "Found 2000 images belonging to 2 classes.\n"
     ]
    }
   ],
   "source": [
    "test_data = IDG(rescale = 1./255)\n",
    "test_set = test_data.flow_from_directory(\n",
    "    'ML Data sets/Section 40 - Convolutional Neural Networks (CNN)/dataset/test_set',\n",
    "    target_size = (64,64),\n",
    "    batch_size = 32,\n",
    "    class_mode = 'binary')"
   ]
  },
  {
   "cell_type": "markdown",
   "metadata": {},
   "source": [
    "# BUILDING THE CNN"
   ]
  },
  {
   "cell_type": "code",
   "execution_count": 6,
   "metadata": {},
   "outputs": [],
   "source": [
    "cnn = tf.keras.models.Sequential()"
   ]
  },
  {
   "cell_type": "code",
   "execution_count": 8,
   "metadata": {},
   "outputs": [],
   "source": [
    "cnn.add(tf.keras.layers.Conv2D(filters = 32, kernel_size = 3, activation = 'relu', input_shape = [64,64,3]))"
   ]
  },
  {
   "cell_type": "code",
   "execution_count": 10,
   "metadata": {},
   "outputs": [],
   "source": [
    "cnn.add(tf.keras.layers.MaxPool2D(pool_size = 2, strides = 2))"
   ]
  },
  {
   "cell_type": "code",
   "execution_count": 11,
   "metadata": {},
   "outputs": [],
   "source": [
    "cnn.add(tf.keras.layers.Conv2D(filters = 32, kernel_size = 3, activation = 'relu'))\n",
    "cnn.add(tf.keras.layers.MaxPool2D(pool_size = 2, strides = 2))"
   ]
  },
  {
   "cell_type": "code",
   "execution_count": 12,
   "metadata": {},
   "outputs": [],
   "source": [
    "cnn.add(tf.keras.layers.Flatten())"
   ]
  },
  {
   "cell_type": "code",
   "execution_count": 13,
   "metadata": {},
   "outputs": [],
   "source": [
    "cnn.add(tf.keras.layers.Dense(units = 128, activation = 'relu'))"
   ]
  },
  {
   "cell_type": "code",
   "execution_count": 16,
   "metadata": {},
   "outputs": [],
   "source": [
    "cnn.add(tf.keras.layers.Dense(units = 1, activation = 'sigmoid'))"
   ]
  },
  {
   "cell_type": "markdown",
   "metadata": {},
   "source": [
    "# TRAINING THE CNN"
   ]
  },
  {
   "cell_type": "code",
   "execution_count": 18,
   "metadata": {},
   "outputs": [],
   "source": [
    "cnn.compile(optimizer = 'adam', loss = 'binary_crossentropy',metrics = ['accuracy'])"
   ]
  },
  {
   "cell_type": "code",
   "execution_count": 19,
   "metadata": {},
   "outputs": [
    {
     "name": "stdout",
     "output_type": "stream",
     "text": [
      "Epoch 1/25\n",
      "250/250 [==============================] - 286s 1s/step - loss: 0.6954 - accuracy: 0.5400 - val_loss: 0.6188 - val_accuracy: 0.6655\n",
      "Epoch 2/25\n",
      "250/250 [==============================] - 120s 458ms/step - loss: 0.6033 - accuracy: 0.6760 - val_loss: 0.5555 - val_accuracy: 0.7230\n",
      "Epoch 3/25\n",
      "250/250 [==============================] - 125s 481ms/step - loss: 0.5464 - accuracy: 0.7295 - val_loss: 0.5210 - val_accuracy: 0.7485\n",
      "Epoch 4/25\n",
      "250/250 [==============================] - 127s 488ms/step - loss: 0.5283 - accuracy: 0.7363 - val_loss: 0.5072 - val_accuracy: 0.7530\n",
      "Epoch 5/25\n",
      "250/250 [==============================] - 135s 523ms/step - loss: 0.4822 - accuracy: 0.7673 - val_loss: 0.4844 - val_accuracy: 0.7680\n",
      "Epoch 6/25\n",
      "250/250 [==============================] - 122s 468ms/step - loss: 0.4652 - accuracy: 0.7714 - val_loss: 0.4825 - val_accuracy: 0.7695\n",
      "Epoch 7/25\n",
      "250/250 [==============================] - 125s 482ms/step - loss: 0.4440 - accuracy: 0.7903 - val_loss: 0.5171 - val_accuracy: 0.7475\n",
      "Epoch 8/25\n",
      "250/250 [==============================] - 126s 482ms/step - loss: 0.4464 - accuracy: 0.7880 - val_loss: 0.4886 - val_accuracy: 0.7725\n",
      "Epoch 9/25\n",
      "250/250 [==============================] - 125s 479ms/step - loss: 0.4258 - accuracy: 0.7985 - val_loss: 0.4553 - val_accuracy: 0.7845\n",
      "Epoch 10/25\n",
      "250/250 [==============================] - 128s 492ms/step - loss: 0.4188 - accuracy: 0.8039 - val_loss: 0.4537 - val_accuracy: 0.7850\n",
      "Epoch 11/25\n",
      "250/250 [==============================] - 123s 471ms/step - loss: 0.3950 - accuracy: 0.8161 - val_loss: 0.4486 - val_accuracy: 0.7965\n",
      "Epoch 12/25\n",
      "250/250 [==============================] - 122s 470ms/step - loss: 0.3901 - accuracy: 0.8121 - val_loss: 0.4343 - val_accuracy: 0.8055\n",
      "Epoch 13/25\n",
      "250/250 [==============================] - 123s 470ms/step - loss: 0.3692 - accuracy: 0.8351 - val_loss: 0.4577 - val_accuracy: 0.8025\n",
      "Epoch 14/25\n",
      "250/250 [==============================] - 125s 478ms/step - loss: 0.3810 - accuracy: 0.8293 - val_loss: 0.4319 - val_accuracy: 0.8080\n",
      "Epoch 15/25\n",
      "250/250 [==============================] - 127s 485ms/step - loss: 0.3697 - accuracy: 0.8319 - val_loss: 0.4305 - val_accuracy: 0.8065\n",
      "Epoch 16/25\n",
      "250/250 [==============================] - 124s 477ms/step - loss: 0.3344 - accuracy: 0.8512 - val_loss: 0.4289 - val_accuracy: 0.8070\n",
      "Epoch 17/25\n",
      "250/250 [==============================] - 126s 485ms/step - loss: 0.3357 - accuracy: 0.8572 - val_loss: 0.4323 - val_accuracy: 0.8165\n",
      "Epoch 18/25\n",
      "250/250 [==============================] - 133s 511ms/step - loss: 0.3260 - accuracy: 0.8558 - val_loss: 0.4556 - val_accuracy: 0.8140\n",
      "Epoch 19/25\n",
      "250/250 [==============================] - 178s 692ms/step - loss: 0.3138 - accuracy: 0.8640 - val_loss: 0.4375 - val_accuracy: 0.8140\n",
      "Epoch 20/25\n",
      "250/250 [==============================] - 208s 805ms/step - loss: 0.3013 - accuracy: 0.8665 - val_loss: 0.4435 - val_accuracy: 0.8140\n",
      "Epoch 21/25\n",
      "250/250 [==============================] - 288s 1s/step - loss: 0.2904 - accuracy: 0.8782 - val_loss: 0.4458 - val_accuracy: 0.8215\n",
      "Epoch 22/25\n",
      "250/250 [==============================] - 248s 958ms/step - loss: 0.2720 - accuracy: 0.8821 - val_loss: 0.4497 - val_accuracy: 0.8180\n",
      "Epoch 23/25\n",
      "250/250 [==============================] - 339s 1s/step - loss: 0.2655 - accuracy: 0.8833 - val_loss: 0.4449 - val_accuracy: 0.8155\n",
      "Epoch 24/25\n",
      "250/250 [==============================] - 298s 1s/step - loss: 0.2485 - accuracy: 0.8953 - val_loss: 0.4656 - val_accuracy: 0.8095\n",
      "Epoch 25/25\n",
      "250/250 [==============================] - 284s 1s/step - loss: 0.2375 - accuracy: 0.9034 - val_loss: 0.5183 - val_accuracy: 0.8040\n"
     ]
    },
    {
     "data": {
      "text/plain": [
       "<tensorflow.python.keras.callbacks.History at 0x27468c063c8>"
      ]
     },
     "execution_count": 19,
     "metadata": {},
     "output_type": "execute_result"
    }
   ],
   "source": [
    "cnn.fit(x = training_set, validation_data = test_set, epochs = 25)"
   ]
  },
  {
   "cell_type": "markdown",
   "metadata": {},
   "source": [
    "# MAKING SINGLE PREDICTION"
   ]
  },
  {
   "cell_type": "code",
   "execution_count": 20,
   "metadata": {},
   "outputs": [],
   "source": [
    "import numpy as np\n",
    "from keras.preprocessing import image"
   ]
  },
  {
   "cell_type": "code",
   "execution_count": 42,
   "metadata": {},
   "outputs": [],
   "source": [
    "test_img = image.load_img('ML Data sets/dataset/test_set/cats/cat.4003.jpg',target_size = (64,64))\n",
    "test_img = image.img_to_array(test_img)\n",
    "test_img = np.expand_dims(test_img, axis = 0)\n",
    "result = cnn.predict(test_img)\n",
    "training_set.class_indices\n",
    "if result[0][0]==1:\n",
    "    prediction = 'dog'\n",
    "else:\n",
    "    prediction = 'cat'"
   ]
  },
  {
   "cell_type": "code",
   "execution_count": 43,
   "metadata": {},
   "outputs": [
    {
     "name": "stdout",
     "output_type": "stream",
     "text": [
      "dog\n"
     ]
    }
   ],
   "source": [
    "print(prediction)"
   ]
  },
  {
   "cell_type": "code",
   "execution_count": null,
   "metadata": {},
   "outputs": [],
   "source": []
  }
 ],
 "metadata": {
  "kernelspec": {
   "display_name": "Python 3",
   "language": "python",
   "name": "python3"
  },
  "language_info": {
   "codemirror_mode": {
    "name": "ipython",
    "version": 3
   },
   "file_extension": ".py",
   "mimetype": "text/x-python",
   "name": "python",
   "nbconvert_exporter": "python",
   "pygments_lexer": "ipython3",
   "version": "3.7.6"
  }
 },
 "nbformat": 4,
 "nbformat_minor": 4
}
